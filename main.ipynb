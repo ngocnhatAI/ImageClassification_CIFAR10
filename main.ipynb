{
 "cells": [
  {
   "cell_type": "markdown",
   "metadata": {
    "id": "Iq_13hBFD5GM"
   },
   "source": [
    "# Import library and load data"
   ]
  },
  {
   "cell_type": "code",
   "execution_count": null,
   "metadata": {
    "colab": {
     "base_uri": "https://localhost:8080/",
     "height": 0
    },
    "execution": {
     "iopub.execute_input": "2025-03-12T06:54:08.238529Z",
     "iopub.status.busy": "2025-03-12T06:54:08.238294Z",
     "iopub.status.idle": "2025-03-12T06:54:14.912460Z",
     "shell.execute_reply": "2025-03-12T06:54:14.911810Z",
     "shell.execute_reply.started": "2025-03-12T06:54:08.238510Z"
    },
    "id": "jyl4-0bsDsRL",
    "outputId": "a9e9c5fb-6863-4ca3-c1b9-ceff7db51cb9",
    "trusted": true
   },
   "outputs": [
    {
     "data": {
      "text/plain": [
       "<torch._C.Generator at 0x798392271c70>"
      ]
     },
     "execution_count": 2,
     "metadata": {},
     "output_type": "execute_result"
    }
   ],
   "source": [
    "import os\n",
    "import numpy as np\n",
    "import pandas as pd\n",
    "import torch \n",
    "import torch.nn as nn\n",
    "import torch.nn.functional as F\n",
    "import torchvision\n",
    "import torchvision.transforms as transforms\n",
    "from torch import optim\n",
    "from torch.utils.data import TensorDataset, DataLoader\n",
    "import matplotlib.pyplot as plt\n",
    "\n",
    "from models.alexnet import *\n",
    "from models.resnet50 import *\n",
    "from models.vgg16 import *\n",
    "\n",
    "%load_ext autoreload\n",
    "%autoreload 2\n",
    "%matplotlib inline\n",
    "\n",
    "plt.rcParams['figure.figsize'] = [8,5]\n",
    "torch.manual_seed(0)\n",
    "device = torch.device(\"cuda\" if torch.cuda.is_available() else \"cpu\")\n"
   ]
  },
  {
   "cell_type": "code",
   "execution_count": 3,
   "metadata": {
    "execution": {
     "iopub.execute_input": "2025-03-12T06:54:14.913893Z",
     "iopub.status.busy": "2025-03-12T06:54:14.913458Z",
     "iopub.status.idle": "2025-03-12T06:54:30.100805Z",
     "shell.execute_reply": "2025-03-12T06:54:30.100162Z",
     "shell.execute_reply.started": "2025-03-12T06:54:14.913863Z"
    },
    "trusted": true
   },
   "outputs": [
    {
     "name": "stdout",
     "output_type": "stream",
     "text": [
      "==> Preparing data..\n",
      "Downloading https://www.cs.toronto.edu/~kriz/cifar-10-python.tar.gz to ./data/cifar-10-python.tar.gz\n"
     ]
    },
    {
     "name": "stderr",
     "output_type": "stream",
     "text": [
      "100%|██████████| 170M/170M [00:10<00:00, 15.5MB/s] \n"
     ]
    },
    {
     "name": "stdout",
     "output_type": "stream",
     "text": [
      "Extracting ./data/cifar-10-python.tar.gz to ./data\n",
      "Files already downloaded and verified\n"
     ]
    }
   ],
   "source": [
    "print('==> Preparing data..')\n",
    "transform_train = transforms.Compose([\n",
    "    transforms.RandomCrop(32, padding=4),\n",
    "    transforms.RandomHorizontalFlip(),\n",
    "    transforms.ToTensor(),\n",
    "    transforms.Normalize((0.4914, 0.4822, 0.4465), (0.2023, 0.1994, 0.2010)),\n",
    "])\n",
    "\n",
    "transform_test = transforms.Compose([\n",
    "    transforms.ToTensor(),\n",
    "    transforms.Normalize((0.4914, 0.4822, 0.4465), (0.2023, 0.1994, 0.2010)),\n",
    "])\n",
    "\n",
    "trainset = torchvision.datasets.CIFAR10(\n",
    "    root='./data', train=True, download=True, transform=transform_train)\n",
    "trainloader = torch.utils.data.DataLoader(\n",
    "    trainset, batch_size=128, shuffle=True, num_workers=2)\n",
    "\n",
    "testset = torchvision.datasets.CIFAR10(\n",
    "    root='./data', train=False, download=True, transform=transform_test)\n",
    "testloader = torch.utils.data.DataLoader(\n",
    "    testset, batch_size=100, shuffle=False, num_workers=2)\n",
    "\n",
    "classes = ('plane', 'car', 'bird', 'cat', 'deer', 'dog', 'frog', 'horse', 'ship', 'truck')"
   ]
  },
  {
   "cell_type": "markdown",
   "metadata": {},
   "source": [
    "# Define train and evaluation function"
   ]
  },
  {
   "cell_type": "code",
   "execution_count": 6,
   "metadata": {
    "execution": {
     "iopub.execute_input": "2025-03-12T06:54:30.166691Z",
     "iopub.status.busy": "2025-03-12T06:54:30.166414Z",
     "iopub.status.idle": "2025-03-12T06:54:30.195432Z",
     "shell.execute_reply": "2025-03-12T06:54:30.194878Z",
     "shell.execute_reply.started": "2025-03-12T06:54:30.166664Z"
    },
    "trusted": true
   },
   "outputs": [],
   "source": [
    "def evaluate(model, testloader, criterion, device):\n",
    "    batch_count = len(testloader)\n",
    "    test_loss = 0.0\n",
    "    correct = 0\n",
    "    total = 0\n",
    "    all_predictions = []\n",
    "    all_labels = []\n",
    "    model.eval()\n",
    "\n",
    "    with torch.no_grad():\n",
    "        for images, labels in testloader:\n",
    "            images, labels = images.to(device), labels.to(device)\n",
    "            outputs = model(images)\n",
    "            \n",
    "            loss = criterion(outputs, labels)\n",
    "            test_loss += loss.item()\n",
    "            \n",
    "            _, predicted = torch.max(outputs, 1)\n",
    "            \n",
    "            total += labels.size(0)\n",
    "            correct += (predicted == labels).sum().item()\n",
    "            all_predictions.extend(predicted.cpu().numpy())\n",
    "            all_labels.extend(labels.cpu().numpy())\n",
    "\n",
    "    if total == 0:\n",
    "        print(\"No valid batches found during evaluation\")\n",
    "        return None\n",
    "        \n",
    "    accuracy = 100 * correct / total\n",
    "    test_loss = test_loss/batch_count\n",
    "        \n",
    "    return accuracy, test_loss"
   ]
  },
  {
   "cell_type": "code",
   "execution_count": 7,
   "metadata": {
    "execution": {
     "iopub.execute_input": "2025-03-12T06:54:30.198407Z",
     "iopub.status.busy": "2025-03-12T06:54:30.198205Z",
     "iopub.status.idle": "2025-03-12T06:54:30.226640Z",
     "shell.execute_reply": "2025-03-12T06:54:30.226096Z",
     "shell.execute_reply.started": "2025-03-12T06:54:30.198390Z"
    },
    "trusted": true
   },
   "outputs": [],
   "source": [
    "def train(model, trainloader, testloader, criterion, optimizer, epochs, device):\n",
    "    batch_count = len(trainloader)\n",
    "    train_losses = []\n",
    "    best_acc = 0.0\n",
    "\n",
    "    for epoch in range(epochs):\n",
    "        model.train()\n",
    "        running_loss = 0.0\n",
    "\n",
    "        for i, (inputs, labels) in enumerate(trainloader):\n",
    "            inputs, labels = inputs.to(device), labels.to(device)\n",
    "            optimizer.zero_grad()\n",
    "            \n",
    "            outputs = model(inputs)\n",
    "            loss = criterion(outputs, labels)\n",
    "            loss.backward()\n",
    "            optimizer.step()\n",
    "            running_loss += loss.item()\n",
    "\n",
    "        running_loss = running_loss/batch_count\n",
    "        train_losses.append(running_loss)\n",
    "        accuracy, test_loss = evaluate(model, testloader, criterion, device)\n",
    "        \n",
    "        print(f\"Epoch {epoch}: Train loss = {running_loss:.4f}, Test loss = {test_loss:.4f}\")\n",
    "        print(f\"Accuracy on test set: {accuracy:5.2f}%\")\n",
    "\n",
    "        # Lưu mô hình nếu đạt độ chính xác cao nhất\n",
    "        if accuracy > best_acc:\n",
    "            best_acc = accuracy\n",
    "            os.makedirs('models', exist_ok=True)  # Create folder if not exist\n",
    "            torch.save(model.state_dict(), 'models/best_model.pth')\n",
    "            print(f\"Model saved as 'best_model.pth' with accuracy: {best_acc:.3f}%\")\n",
    "    \n",
    "        print(\"-\"*64)\n",
    "\n",
    "    return train_losses"
   ]
  },
  {
   "cell_type": "markdown",
   "metadata": {},
   "source": [
    "# Train model"
   ]
  },
  {
   "cell_type": "code",
   "execution_count": null,
   "metadata": {
    "execution": {
     "iopub.execute_input": "2025-03-12T06:55:18.556998Z",
     "iopub.status.busy": "2025-03-12T06:55:18.556649Z",
     "iopub.status.idle": "2025-03-12T07:27:53.380952Z",
     "shell.execute_reply": "2025-03-12T07:27:53.379869Z",
     "shell.execute_reply.started": "2025-03-12T06:55:18.556961Z"
    },
    "trusted": true
   },
   "outputs": [
    {
     "name": "stdout",
     "output_type": "stream",
     "text": [
      "cuda\n",
      "Epoch 0: Train loss = 1.6347, Test loss = 1.6581\n",
      "Accuracy on test set: 42.10%\n",
      "Model saved as 'best_model.pth' with accuracy: 42.100%\n",
      "----------------------------------------------------------------\n",
      "Epoch 1: Train loss = 1.0778, Test loss = 0.9036\n",
      "Accuracy on test set: 68.62%\n",
      "Model saved as 'best_model.pth' with accuracy: 68.620%\n",
      "----------------------------------------------------------------\n",
      "Epoch 2: Train loss = 0.8510, Test loss = 1.0307\n",
      "Accuracy on test set: 66.70%\n",
      "----------------------------------------------------------------\n",
      "Epoch 3: Train loss = 0.7376, Test loss = 0.7721\n",
      "Accuracy on test set: 74.02%\n",
      "Model saved as 'best_model.pth' with accuracy: 74.020%\n",
      "----------------------------------------------------------------\n",
      "Epoch 4: Train loss = 0.6483, Test loss = 0.6791\n",
      "Accuracy on test set: 77.13%\n",
      "Model saved as 'best_model.pth' with accuracy: 77.130%\n",
      "----------------------------------------------------------------\n",
      "Epoch 5: Train loss = 0.5860, Test loss = 0.7237\n",
      "Accuracy on test set: 76.82%\n",
      "----------------------------------------------------------------\n",
      "Epoch 6: Train loss = 0.5427, Test loss = 0.5804\n",
      "Accuracy on test set: 80.79%\n",
      "Model saved as 'best_model.pth' with accuracy: 80.790%\n",
      "----------------------------------------------------------------\n",
      "Epoch 7: Train loss = 0.5056, Test loss = 0.5370\n",
      "Accuracy on test set: 82.22%\n",
      "Model saved as 'best_model.pth' with accuracy: 82.220%\n",
      "----------------------------------------------------------------\n",
      "Epoch 8: Train loss = 0.4730, Test loss = 0.5920\n",
      "Accuracy on test set: 81.23%\n",
      "----------------------------------------------------------------\n",
      "Epoch 9: Train loss = 0.4412, Test loss = 0.6599\n",
      "Accuracy on test set: 79.71%\n",
      "----------------------------------------------------------------\n",
      "Epoch 10: Train loss = 0.4175, Test loss = 0.4899\n",
      "Accuracy on test set: 84.24%\n",
      "Model saved as 'best_model.pth' with accuracy: 84.240%\n",
      "----------------------------------------------------------------\n",
      "Epoch 11: Train loss = 0.3971, Test loss = 0.5120\n",
      "Accuracy on test set: 83.10%\n",
      "----------------------------------------------------------------\n",
      "Epoch 12: Train loss = 0.3738, Test loss = 0.4907\n",
      "Accuracy on test set: 84.20%\n",
      "----------------------------------------------------------------\n",
      "Epoch 13: Train loss = 0.3493, Test loss = 0.4661\n",
      "Accuracy on test set: 84.95%\n",
      "Model saved as 'best_model.pth' with accuracy: 84.950%\n",
      "----------------------------------------------------------------\n",
      "Epoch 14: Train loss = 0.3345, Test loss = 0.4668\n",
      "Accuracy on test set: 85.46%\n",
      "Model saved as 'best_model.pth' with accuracy: 85.460%\n",
      "----------------------------------------------------------------\n",
      "Epoch 15: Train loss = 0.3238, Test loss = 0.4700\n",
      "Accuracy on test set: 85.11%\n",
      "----------------------------------------------------------------\n",
      "Epoch 16: Train loss = 0.3073, Test loss = 0.3871\n",
      "Accuracy on test set: 87.43%\n",
      "Model saved as 'best_model.pth' with accuracy: 87.430%\n",
      "----------------------------------------------------------------\n",
      "Epoch 17: Train loss = 0.2900, Test loss = 0.3531\n",
      "Accuracy on test set: 88.64%\n",
      "Model saved as 'best_model.pth' with accuracy: 88.640%\n",
      "----------------------------------------------------------------\n",
      "Epoch 18: Train loss = 0.2794, Test loss = 0.4472\n",
      "Accuracy on test set: 85.35%\n",
      "----------------------------------------------------------------\n",
      "Epoch 19: Train loss = 0.2681, Test loss = 0.4267\n",
      "Accuracy on test set: 86.62%\n",
      "----------------------------------------------------------------\n",
      "Epoch 20: Train loss = 0.2578, Test loss = 0.3732\n",
      "Accuracy on test set: 87.96%\n",
      "----------------------------------------------------------------\n",
      "Epoch 21: Train loss = 0.2417, Test loss = 0.3862\n",
      "Accuracy on test set: 87.93%\n",
      "----------------------------------------------------------------\n",
      "Epoch 22: Train loss = 0.2429, Test loss = 0.4418\n",
      "Accuracy on test set: 86.02%\n",
      "----------------------------------------------------------------\n",
      "Epoch 23: Train loss = 0.2247, Test loss = 0.3483\n",
      "Accuracy on test set: 89.05%\n",
      "Model saved as 'best_model.pth' with accuracy: 89.050%\n",
      "----------------------------------------------------------------\n",
      "Epoch 24: Train loss = 0.2170, Test loss = 0.3689\n",
      "Accuracy on test set: 88.70%\n",
      "----------------------------------------------------------------\n",
      "Epoch 25: Train loss = 0.2152, Test loss = 0.3648\n",
      "Accuracy on test set: 88.54%\n",
      "----------------------------------------------------------------\n",
      "Epoch 26: Train loss = 0.2065, Test loss = 0.4237\n",
      "Accuracy on test set: 86.99%\n",
      "----------------------------------------------------------------\n",
      "Epoch 27: Train loss = 0.2020, Test loss = 0.4134\n",
      "Accuracy on test set: 87.26%\n",
      "----------------------------------------------------------------\n",
      "Epoch 28: Train loss = 0.1987, Test loss = 0.3973\n",
      "Accuracy on test set: 87.74%\n",
      "----------------------------------------------------------------\n",
      "Epoch 29: Train loss = 0.1881, Test loss = 0.3575\n",
      "Accuracy on test set: 89.08%\n",
      "Model saved as 'best_model.pth' with accuracy: 89.080%\n",
      "----------------------------------------------------------------\n",
      "Epoch 30: Train loss = 0.1882, Test loss = 0.4128\n",
      "Accuracy on test set: 87.61%\n",
      "----------------------------------------------------------------\n",
      "Epoch 31: Train loss = 0.1839, Test loss = 0.3731\n",
      "Accuracy on test set: 88.43%\n",
      "----------------------------------------------------------------\n",
      "Epoch 32: Train loss = 0.1831, Test loss = 0.3475\n",
      "Accuracy on test set: 89.26%\n",
      "Model saved as 'best_model.pth' with accuracy: 89.260%\n",
      "----------------------------------------------------------------\n",
      "Epoch 33: Train loss = 0.1724, Test loss = 0.3042\n",
      "Accuracy on test set: 90.17%\n",
      "Model saved as 'best_model.pth' with accuracy: 90.170%\n",
      "----------------------------------------------------------------\n",
      "Epoch 34: Train loss = 0.1714, Test loss = 0.3464\n",
      "Accuracy on test set: 89.38%\n",
      "----------------------------------------------------------------\n",
      "Epoch 35: Train loss = 0.1639, Test loss = 0.3652\n",
      "Accuracy on test set: 88.88%\n",
      "----------------------------------------------------------------\n",
      "Epoch 36: Train loss = 0.1652, Test loss = 0.3605\n",
      "Accuracy on test set: 89.37%\n",
      "----------------------------------------------------------------\n",
      "Epoch 37: Train loss = 0.1591, Test loss = 0.3681\n",
      "Accuracy on test set: 88.78%\n",
      "----------------------------------------------------------------\n",
      "Epoch 38: Train loss = 0.1573, Test loss = 0.3869\n",
      "Accuracy on test set: 88.37%\n",
      "----------------------------------------------------------------\n",
      "Epoch 39: Train loss = 0.1564, Test loss = 0.4321\n",
      "Accuracy on test set: 87.59%\n",
      "----------------------------------------------------------------\n",
      "Epoch 40: Train loss = 0.1491, Test loss = 0.3592\n",
      "Accuracy on test set: 89.35%\n",
      "----------------------------------------------------------------\n",
      "Epoch 41: Train loss = 0.1484, Test loss = 0.3594\n",
      "Accuracy on test set: 89.56%\n",
      "----------------------------------------------------------------\n",
      "Epoch 42: Train loss = 0.1518, Test loss = 0.3825\n",
      "Accuracy on test set: 88.68%\n",
      "----------------------------------------------------------------\n",
      "Epoch 43: Train loss = 0.1427, Test loss = 0.3721\n",
      "Accuracy on test set: 88.88%\n",
      "----------------------------------------------------------------\n",
      "Epoch 44: Train loss = 0.1435, Test loss = 0.3235\n",
      "Accuracy on test set: 90.32%\n",
      "Model saved as 'best_model.pth' with accuracy: 90.320%\n",
      "----------------------------------------------------------------\n",
      "Epoch 45: Train loss = 0.1412, Test loss = 0.3747\n",
      "Accuracy on test set: 89.52%\n",
      "----------------------------------------------------------------\n",
      "Epoch 46: Train loss = 0.1395, Test loss = 0.3565\n",
      "Accuracy on test set: 89.60%\n",
      "----------------------------------------------------------------\n",
      "Epoch 47: Train loss = 0.1386, Test loss = 0.3490\n",
      "Accuracy on test set: 89.73%\n",
      "----------------------------------------------------------------\n",
      "Epoch 48: Train loss = 0.1319, Test loss = 0.3846\n",
      "Accuracy on test set: 89.08%\n",
      "----------------------------------------------------------------\n",
      "Epoch 49: Train loss = 0.1318, Test loss = 0.3286\n",
      "Accuracy on test set: 90.51%\n",
      "Model saved as 'best_model.pth' with accuracy: 90.510%\n",
      "----------------------------------------------------------------\n",
      "Epoch 50: Train loss = 0.1300, Test loss = 0.3434\n",
      "Accuracy on test set: 89.85%\n",
      "----------------------------------------------------------------\n",
      "Epoch 51: Train loss = 0.1291, Test loss = 0.3608\n",
      "Accuracy on test set: 89.62%\n",
      "----------------------------------------------------------------\n",
      "Epoch 52: Train loss = 0.1306, Test loss = 0.3652\n",
      "Accuracy on test set: 89.40%\n",
      "----------------------------------------------------------------\n",
      "Epoch 53: Train loss = 0.1252, Test loss = 0.3920\n",
      "Accuracy on test set: 89.05%\n",
      "----------------------------------------------------------------\n",
      "Epoch 54: Train loss = 0.1295, Test loss = 0.3676\n",
      "Accuracy on test set: 89.69%\n",
      "----------------------------------------------------------------\n",
      "Epoch 55: Train loss = 0.1217, Test loss = 0.3499\n",
      "Accuracy on test set: 89.96%\n",
      "----------------------------------------------------------------\n",
      "Epoch 56: Train loss = 0.1276, Test loss = 0.3543\n",
      "Accuracy on test set: 89.49%\n",
      "----------------------------------------------------------------\n",
      "Epoch 57: Train loss = 0.1233, Test loss = 0.3594\n",
      "Accuracy on test set: 89.93%\n",
      "----------------------------------------------------------------\n",
      "Epoch 58: Train loss = 0.1201, Test loss = 0.3505\n",
      "Accuracy on test set: 89.94%\n",
      "----------------------------------------------------------------\n",
      "Epoch 59: Train loss = 0.1231, Test loss = 0.3599\n",
      "Accuracy on test set: 89.69%\n",
      "----------------------------------------------------------------\n",
      "Epoch 60: Train loss = 0.1187, Test loss = 0.3800\n",
      "Accuracy on test set: 89.28%\n",
      "----------------------------------------------------------------\n",
      "Epoch 61: Train loss = 0.1165, Test loss = 0.3562\n",
      "Accuracy on test set: 90.00%\n",
      "----------------------------------------------------------------\n",
      "Epoch 62: Train loss = 0.1174, Test loss = 0.3784\n",
      "Accuracy on test set: 89.56%\n",
      "----------------------------------------------------------------\n",
      "Epoch 63: Train loss = 0.1199, Test loss = 0.3373\n",
      "Accuracy on test set: 90.12%\n",
      "----------------------------------------------------------------\n",
      "Epoch 64: Train loss = 0.1161, Test loss = 0.3510\n",
      "Accuracy on test set: 89.56%\n",
      "----------------------------------------------------------------\n",
      "Epoch 65: Train loss = 0.1172, Test loss = 0.3346\n",
      "Accuracy on test set: 90.39%\n",
      "----------------------------------------------------------------\n",
      "Epoch 66: Train loss = 0.1179, Test loss = 0.3529\n",
      "Accuracy on test set: 89.50%\n",
      "----------------------------------------------------------------\n",
      "Epoch 67: Train loss = 0.1156, Test loss = 0.3848\n",
      "Accuracy on test set: 89.17%\n",
      "----------------------------------------------------------------\n",
      "Epoch 68: Train loss = 0.1066, Test loss = 0.4057\n",
      "Accuracy on test set: 89.15%\n",
      "----------------------------------------------------------------\n",
      "Epoch 69: Train loss = 0.1156, Test loss = 0.3374\n",
      "Accuracy on test set: 90.43%\n",
      "----------------------------------------------------------------\n",
      "Epoch 70: Train loss = 0.1162, Test loss = 0.4023\n",
      "Accuracy on test set: 89.12%\n",
      "----------------------------------------------------------------\n",
      "Epoch 71: Train loss = 0.1128, Test loss = 0.3598\n",
      "Accuracy on test set: 90.01%\n",
      "----------------------------------------------------------------\n",
      "Epoch 72: Train loss = 0.1133, Test loss = 0.3492\n",
      "Accuracy on test set: 90.10%\n",
      "----------------------------------------------------------------\n",
      "Epoch 73: Train loss = 0.1104, Test loss = 0.3243\n",
      "Accuracy on test set: 90.90%\n",
      "Model saved as 'best_model.pth' with accuracy: 90.900%\n",
      "----------------------------------------------------------------\n",
      "Epoch 74: Train loss = 0.1106, Test loss = 0.3624\n",
      "Accuracy on test set: 90.17%\n",
      "----------------------------------------------------------------\n"
     ]
    }
   ],
   "source": [
    "model = VGG16().to(device)\n",
    "# model = AlexNet().to(device)\n",
    "# model = ResNet50().to(device)\n",
    "\n",
    "criterion = nn.CrossEntropyLoss()\n",
    "optimizer = optim.Adam(model.parameters(), lr=0.001, weight_decay=1e-4)\n",
    "train_losses = train(model, trainloader, testloader, criterion, optimizer, epochs=75, device=device)"
   ]
  },
  {
   "cell_type": "code",
   "execution_count": null,
   "metadata": {
    "execution": {
     "iopub.execute_input": "2025-03-11T17:12:51.383687Z",
     "iopub.status.busy": "2025-03-11T17:12:51.383342Z",
     "iopub.status.idle": "2025-03-11T17:13:03.958928Z",
     "shell.execute_reply": "2025-03-11T17:13:03.957720Z",
     "shell.execute_reply.started": "2025-03-11T17:12:51.383654Z"
    },
    "trusted": true
   },
   "outputs": [],
   "source": [
    "# Load best model\n",
    "# model.load_state_dict(torch.load(\"models/best_model.pth\", weights_only=True))\n",
    "# model.to(device)\n",
    "# model.eval()\n",
    "# accuracy, test_loss = evaluate(model, testloader, criterion, device)\n",
    "# print(f'Accuracy on test set: {accuracy:.2f}%')"
   ]
  },
  {
   "cell_type": "markdown",
   "metadata": {},
   "source": [
    "# Plot loss history"
   ]
  },
  {
   "cell_type": "code",
   "execution_count": 62,
   "metadata": {
    "colab": {
     "base_uri": "https://localhost:8080/",
     "height": 487
    },
    "execution": {
     "iopub.execute_input": "2024-11-23T03:22:57.890375Z",
     "iopub.status.busy": "2024-11-23T03:22:57.890043Z",
     "iopub.status.idle": "2024-11-23T03:22:58.157629Z",
     "shell.execute_reply": "2024-11-23T03:22:58.156793Z",
     "shell.execute_reply.started": "2024-11-23T03:22:57.890349Z"
    },
    "id": "zQJWMXRbDmZm",
    "outputId": "5a16c687-9102-4cc1-bda3-a76f98d6b0f1",
    "trusted": true
   },
   "outputs": [
    {
     "data": {
      "image/png": "[encoded data removed]",
      "text/plain": [
       "<Figure size 1000x500 with 1 Axes>"
      ]
     },
     "metadata": {},
     "output_type": "display_data"
    }
   ],
   "source": [
    "# Plot training loss\n",
    "plt.figure(figsize=(10, 5))\n",
    "plt.plot(train_losses)\n",
    "plt.title('Training Loss Over Time')\n",
    "plt.xlabel('Iterations (x100)')\n",
    "plt.ylabel('Loss')\n",
    "plt.show()"
   ]
  }
 ],
 "metadata": {
  "accelerator": "GPU",
  "colab": {
   "gpuType": "T4",
   "provenance": []
  },
  "kaggle": {
   "accelerator": "nvidiaTeslaT4",
   "dataSources": [],
   "dockerImageVersionId": 30919,
   "isGpuEnabled": true,
   "isInternetEnabled": true,
   "language": "python",
   "sourceType": "notebook"
  },
  "kernelspec": {
   "display_name": "base",
   "language": "python",
   "name": "python3"
  },
  "language_info": {
   "codemirror_mode": {
    "name": "ipython",
    "version": 3
   },
   "file_extension": ".py",
   "mimetype": "text/x-python",
   "name": "python",
   "nbconvert_exporter": "python",
   "pygments_lexer": "ipython3",
   "version": "3.11.4"
  }
 },
 "nbformat": 4,
 "nbformat_minor": 4
}
