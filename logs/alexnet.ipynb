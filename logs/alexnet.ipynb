{
 "cells": [
  {
   "cell_type": "markdown",
   "metadata": {
    "id": "Iq_13hBFD5GM"
   },
   "source": [
    "# Import library and load data"
   ]
  },
  {
   "cell_type": "code",
   "execution_count": 1,
   "metadata": {
    "colab": {
     "base_uri": "https://localhost:8080/",
     "height": 0
    },
    "execution": {
     "iopub.execute_input": "2025-03-12T06:36:57.702148Z",
     "iopub.status.busy": "2025-03-12T06:36:57.701891Z",
     "iopub.status.idle": "2025-03-12T06:37:10.554881Z",
     "shell.execute_reply": "2025-03-12T06:37:10.554121Z",
     "shell.execute_reply.started": "2025-03-12T06:36:57.702114Z"
    },
    "id": "jyl4-0bsDsRL",
    "outputId": "a9e9c5fb-6863-4ca3-c1b9-ceff7db51cb9",
    "trusted": true
   },
   "outputs": [
    {
     "data": {
      "text/plain": [
       "<torch._C.Generator at 0x7a2b74255bb0>"
      ]
     },
     "execution_count": 1,
     "metadata": {},
     "output_type": "execute_result"
    }
   ],
   "source": [
    "import os\n",
    "import numpy as np\n",
    "import pandas as pd\n",
    "import torch \n",
    "import torch.nn as nn\n",
    "import torch.nn.functional as F\n",
    "import torchvision\n",
    "import torchvision.transforms as transforms\n",
    "from torch import optim\n",
    "from torch.utils.data import TensorDataset, DataLoader\n",
    "import matplotlib.pyplot as plt\n",
    "\n",
    "%load_ext autoreload\n",
    "%autoreload 2\n",
    "%matplotlib inline\n",
    "\n",
    "plt.rcParams['figure.figsize'] = [8,5]\n",
    "torch.manual_seed(0)"
   ]
  },
  {
   "cell_type": "code",
   "execution_count": 2,
   "metadata": {
    "execution": {
     "iopub.execute_input": "2025-03-12T06:37:15.707988Z",
     "iopub.status.busy": "2025-03-12T06:37:15.707656Z",
     "iopub.status.idle": "2025-03-12T06:37:22.120608Z",
     "shell.execute_reply": "2025-03-12T06:37:22.119858Z",
     "shell.execute_reply.started": "2025-03-12T06:37:15.707959Z"
    },
    "trusted": true
   },
   "outputs": [
    {
     "name": "stdout",
     "output_type": "stream",
     "text": [
      "==> Preparing data..\n",
      "Downloading https://www.cs.toronto.edu/~kriz/cifar-10-python.tar.gz to ./data/cifar-10-python.tar.gz\n"
     ]
    },
    {
     "name": "stderr",
     "output_type": "stream",
     "text": [
      "100%|██████████| 170M/170M [00:02<00:00, 58.7MB/s] \n"
     ]
    },
    {
     "name": "stdout",
     "output_type": "stream",
     "text": [
      "Extracting ./data/cifar-10-python.tar.gz to ./data\n",
      "Files already downloaded and verified\n"
     ]
    }
   ],
   "source": [
    "print('==> Preparing data..')\n",
    "transform_train = transforms.Compose([\n",
    "    transforms.RandomCrop(32, padding=4),\n",
    "    transforms.RandomHorizontalFlip(),\n",
    "    transforms.ToTensor(),\n",
    "    transforms.Normalize((0.4914, 0.4822, 0.4465), (0.2023, 0.1994, 0.2010)),\n",
    "])\n",
    "\n",
    "transform_test = transforms.Compose([\n",
    "    transforms.ToTensor(),\n",
    "    transforms.Normalize((0.4914, 0.4822, 0.4465), (0.2023, 0.1994, 0.2010)),\n",
    "])\n",
    "\n",
    "trainset = torchvision.datasets.CIFAR10(\n",
    "    root='./data', train=True, download=True, transform=transform_train)\n",
    "trainloader = torch.utils.data.DataLoader(\n",
    "    trainset, batch_size=128, shuffle=True, num_workers=2)\n",
    "\n",
    "testset = torchvision.datasets.CIFAR10(\n",
    "    root='./data', train=False, download=True, transform=transform_test)\n",
    "testloader = torch.utils.data.DataLoader(\n",
    "    testset, batch_size=100, shuffle=False, num_workers=2)\n",
    "\n",
    "classes = ('plane', 'car', 'bird', 'cat', 'deer', 'dog', 'frog', 'horse', 'ship', 'truck')"
   ]
  },
  {
   "cell_type": "markdown",
   "metadata": {},
   "source": [
    "# Define model"
   ]
  },
  {
   "cell_type": "code",
   "execution_count": 3,
   "metadata": {
    "execution": {
     "iopub.execute_input": "2025-03-12T06:37:32.750931Z",
     "iopub.status.busy": "2025-03-12T06:37:32.750599Z",
     "iopub.status.idle": "2025-03-12T06:37:32.802652Z",
     "shell.execute_reply": "2025-03-12T06:37:32.801400Z",
     "shell.execute_reply.started": "2025-03-12T06:37:32.750904Z"
    },
    "trusted": true
   },
   "outputs": [],
   "source": [
    "class AlexNet(nn.Module):\n",
    "    def __init__(self):\n",
    "        super(AlexNet, self).__init__()\n",
    "        \n",
    "        self.conv_layers = nn.Sequential(\n",
    "            nn.Conv2d(3, 64, kernel_size=3, stride=1, padding=1),\n",
    "            nn.ReLU(),\n",
    "            nn.MaxPool2d(kernel_size=2, stride=2),\n",
    "            \n",
    "            nn.Conv2d(64, 128, kernel_size=3, stride=1, padding=1),\n",
    "            nn.ReLU(),\n",
    "            nn.MaxPool2d(kernel_size=2, stride=2),\n",
    "            \n",
    "            nn.Conv2d(128, 256, kernel_size=3, stride=1, padding=1),\n",
    "            nn.ReLU(),\n",
    "            \n",
    "            nn.Conv2d(256, 256, kernel_size=3, stride=1, padding=1),\n",
    "            nn.ReLU(),\n",
    "            \n",
    "            nn.Conv2d(256, 256, kernel_size=3, stride=1, padding=1),\n",
    "            nn.ReLU(),\n",
    "            nn.MaxPool2d(kernel_size=2, stride=2)\n",
    "        )\n",
    "        \n",
    "        self.fc_layers = nn.Sequential(\n",
    "            nn.Linear(4*4*256, 512),\n",
    "            nn.ReLU(),\n",
    "            \n",
    "            nn.Linear(512, 256),\n",
    "            nn.ReLU(),\n",
    "            \n",
    "            nn.Linear(256, 10)\n",
    "        )\n",
    "    \n",
    "    def forward(self, x):\n",
    "        x = self.conv_layers(x)\n",
    "        x = x.view(x.shape[0], -1)  # Flatten\n",
    "        x = self.fc_layers(x)\n",
    "        return x"
   ]
  },
  {
   "cell_type": "code",
   "execution_count": 4,
   "metadata": {
    "execution": {
     "iopub.execute_input": "2025-03-12T06:37:38.781471Z",
     "iopub.status.busy": "2025-03-12T06:37:38.781131Z",
     "iopub.status.idle": "2025-03-12T06:37:38.816690Z",
     "shell.execute_reply": "2025-03-12T06:37:38.815942Z",
     "shell.execute_reply.started": "2025-03-12T06:37:38.781440Z"
    },
    "trusted": true
   },
   "outputs": [],
   "source": [
    "def evaluate(model, testloader, criterion, device):\n",
    "    batch_count = len(testloader)\n",
    "    test_loss = 0.0\n",
    "    correct = 0\n",
    "    total = 0\n",
    "    all_predictions = []\n",
    "    all_labels = []\n",
    "    model.eval()\n",
    "\n",
    "    with torch.no_grad():\n",
    "        for images, labels in testloader:\n",
    "            images, labels = images.to(device), labels.to(device)\n",
    "            outputs = model(images)\n",
    "            \n",
    "            loss = criterion(outputs, labels)\n",
    "            test_loss += loss.item()\n",
    "            \n",
    "            _, predicted = torch.max(outputs, 1)\n",
    "            \n",
    "            total += labels.size(0)\n",
    "            correct += (predicted == labels).sum().item()\n",
    "            all_predictions.extend(predicted.cpu().numpy())\n",
    "            all_labels.extend(labels.cpu().numpy())\n",
    "\n",
    "    if total == 0:\n",
    "        print(\"No valid batches found during evaluation\")\n",
    "        return None\n",
    "        \n",
    "    accuracy = 100 * correct / total\n",
    "    test_loss = test_loss/batch_count\n",
    "        \n",
    "    return accuracy, test_loss"
   ]
  },
  {
   "cell_type": "code",
   "execution_count": 5,
   "metadata": {
    "execution": {
     "iopub.execute_input": "2025-03-12T06:37:59.179099Z",
     "iopub.status.busy": "2025-03-12T06:37:59.178779Z",
     "iopub.status.idle": "2025-03-12T06:37:59.212451Z",
     "shell.execute_reply": "2025-03-12T06:37:59.211625Z",
     "shell.execute_reply.started": "2025-03-12T06:37:59.179077Z"
    },
    "trusted": true
   },
   "outputs": [],
   "source": [
    "def train(model, trainloader, testloader, criterion, optimizer, epochs, device):\n",
    "    batch_count = len(trainloader)\n",
    "    train_losses = []\n",
    "    best_acc = 0.0\n",
    "\n",
    "    for epoch in range(epochs):\n",
    "        model.train()\n",
    "        running_loss = 0.0\n",
    "\n",
    "        for i, (inputs, labels) in enumerate(trainloader):\n",
    "            inputs, labels = inputs.to(device), labels.to(device)\n",
    "            optimizer.zero_grad()\n",
    "            \n",
    "            outputs = model(inputs)\n",
    "            loss = criterion(outputs, labels)\n",
    "            loss.backward()\n",
    "            optimizer.step()\n",
    "            running_loss += loss.item()\n",
    "\n",
    "        running_loss = running_loss/batch_count\n",
    "        train_losses.append(running_loss)\n",
    "        accuracy, test_loss = evaluate(model, testloader, criterion, device)\n",
    "        \n",
    "        print(f\"Epoch {epoch}: Train loss = {running_loss:.4f}, Test loss = {test_loss:.4f}\")\n",
    "        print(f\"Accuracy on test set: {accuracy:5.2f}%\")\n",
    "\n",
    "        # Lưu mô hình nếu đạt độ chính xác cao nhất\n",
    "        if accuracy > best_acc:\n",
    "            best_acc = accuracy\n",
    "            os.makedirs('models', exist_ok=True)  # Create folder if not exist\n",
    "            torch.save(model.state_dict(), 'models/best_model.pth')\n",
    "            print(f\"Model saved as 'best_model.pth' with accuracy: {best_acc:.3f}%\")\n",
    "    \n",
    "        print(\"-\"*64)\n",
    "\n",
    "    return train_losses"
   ]
  },
  {
   "cell_type": "code",
   "execution_count": 6,
   "metadata": {
    "execution": {
     "iopub.execute_input": "2025-03-12T06:38:15.430467Z",
     "iopub.status.busy": "2025-03-12T06:38:15.430178Z",
     "iopub.status.idle": "2025-03-12T06:50:22.516461Z",
     "shell.execute_reply": "2025-03-12T06:50:22.515520Z",
     "shell.execute_reply.started": "2025-03-12T06:38:15.430443Z"
    },
    "trusted": true
   },
   "outputs": [
    {
     "name": "stdout",
     "output_type": "stream",
     "text": [
      "cuda\n",
      "Epoch 0: Train loss = 1.7301, Test loss = 1.4017\n",
      "Accuracy on test set: 46.76%\n",
      "Model saved as 'best_model.pth' with accuracy: 46.760%\n",
      "----------------------------------------------------------------\n",
      "Epoch 1: Train loss = 1.3200, Test loss = 1.1559\n",
      "Accuracy on test set: 57.02%\n",
      "Model saved as 'best_model.pth' with accuracy: 57.020%\n",
      "----------------------------------------------------------------\n",
      "Epoch 2: Train loss = 1.1095, Test loss = 1.0120\n",
      "Accuracy on test set: 64.26%\n",
      "Model saved as 'best_model.pth' with accuracy: 64.260%\n",
      "----------------------------------------------------------------\n",
      "Epoch 3: Train loss = 0.9600, Test loss = 0.9134\n",
      "Accuracy on test set: 67.69%\n",
      "Model saved as 'best_model.pth' with accuracy: 67.690%\n",
      "----------------------------------------------------------------\n",
      "Epoch 4: Train loss = 0.8636, Test loss = 0.8253\n",
      "Accuracy on test set: 70.96%\n",
      "Model saved as 'best_model.pth' with accuracy: 70.960%\n",
      "----------------------------------------------------------------\n",
      "Epoch 5: Train loss = 0.7877, Test loss = 0.8085\n",
      "Accuracy on test set: 72.88%\n",
      "Model saved as 'best_model.pth' with accuracy: 72.880%\n",
      "----------------------------------------------------------------\n",
      "Epoch 6: Train loss = 0.7127, Test loss = 0.6872\n",
      "Accuracy on test set: 76.18%\n",
      "Model saved as 'best_model.pth' with accuracy: 76.180%\n",
      "----------------------------------------------------------------\n",
      "Epoch 7: Train loss = 0.6715, Test loss = 0.7090\n",
      "Accuracy on test set: 75.95%\n",
      "----------------------------------------------------------------\n",
      "Epoch 8: Train loss = 0.6321, Test loss = 0.6759\n",
      "Accuracy on test set: 77.06%\n",
      "Model saved as 'best_model.pth' with accuracy: 77.060%\n",
      "----------------------------------------------------------------\n",
      "Epoch 9: Train loss = 0.6040, Test loss = 0.6531\n",
      "Accuracy on test set: 77.59%\n",
      "Model saved as 'best_model.pth' with accuracy: 77.590%\n",
      "----------------------------------------------------------------\n",
      "Epoch 10: Train loss = 0.5742, Test loss = 0.6007\n",
      "Accuracy on test set: 79.67%\n",
      "Model saved as 'best_model.pth' with accuracy: 79.670%\n",
      "----------------------------------------------------------------\n",
      "Epoch 11: Train loss = 0.5456, Test loss = 0.5834\n",
      "Accuracy on test set: 80.18%\n",
      "Model saved as 'best_model.pth' with accuracy: 80.180%\n",
      "----------------------------------------------------------------\n",
      "Epoch 12: Train loss = 0.5312, Test loss = 0.5901\n",
      "Accuracy on test set: 80.20%\n",
      "Model saved as 'best_model.pth' with accuracy: 80.200%\n",
      "----------------------------------------------------------------\n",
      "Epoch 13: Train loss = 0.5087, Test loss = 0.5721\n",
      "Accuracy on test set: 80.81%\n",
      "Model saved as 'best_model.pth' with accuracy: 80.810%\n",
      "----------------------------------------------------------------\n",
      "Epoch 14: Train loss = 0.4958, Test loss = 0.5634\n",
      "Accuracy on test set: 80.91%\n",
      "Model saved as 'best_model.pth' with accuracy: 80.910%\n",
      "----------------------------------------------------------------\n",
      "Epoch 15: Train loss = 0.4832, Test loss = 0.5229\n",
      "Accuracy on test set: 82.18%\n",
      "Model saved as 'best_model.pth' with accuracy: 82.180%\n",
      "----------------------------------------------------------------\n",
      "Epoch 16: Train loss = 0.4707, Test loss = 0.5646\n",
      "Accuracy on test set: 81.82%\n",
      "----------------------------------------------------------------\n",
      "Epoch 17: Train loss = 0.4662, Test loss = 0.5259\n",
      "Accuracy on test set: 82.07%\n",
      "----------------------------------------------------------------\n",
      "Epoch 18: Train loss = 0.4539, Test loss = 0.5502\n",
      "Accuracy on test set: 82.31%\n",
      "Model saved as 'best_model.pth' with accuracy: 82.310%\n",
      "----------------------------------------------------------------\n",
      "Epoch 19: Train loss = 0.4391, Test loss = 0.5307\n",
      "Accuracy on test set: 82.85%\n",
      "Model saved as 'best_model.pth' with accuracy: 82.850%\n",
      "----------------------------------------------------------------\n",
      "Epoch 20: Train loss = 0.4300, Test loss = 0.4957\n",
      "Accuracy on test set: 83.70%\n",
      "Model saved as 'best_model.pth' with accuracy: 83.700%\n",
      "----------------------------------------------------------------\n",
      "Epoch 21: Train loss = 0.4263, Test loss = 0.5294\n",
      "Accuracy on test set: 82.17%\n",
      "----------------------------------------------------------------\n",
      "Epoch 22: Train loss = 0.4136, Test loss = 0.4790\n",
      "Accuracy on test set: 84.25%\n",
      "Model saved as 'best_model.pth' with accuracy: 84.250%\n",
      "----------------------------------------------------------------\n",
      "Epoch 23: Train loss = 0.4071, Test loss = 0.4862\n",
      "Accuracy on test set: 83.67%\n",
      "----------------------------------------------------------------\n",
      "Epoch 24: Train loss = 0.4031, Test loss = 0.4942\n",
      "Accuracy on test set: 83.34%\n",
      "----------------------------------------------------------------\n",
      "Epoch 25: Train loss = 0.4010, Test loss = 0.4942\n",
      "Accuracy on test set: 83.48%\n",
      "----------------------------------------------------------------\n",
      "Epoch 26: Train loss = 0.3884, Test loss = 0.5090\n",
      "Accuracy on test set: 83.50%\n",
      "----------------------------------------------------------------\n",
      "Epoch 27: Train loss = 0.3798, Test loss = 0.4705\n",
      "Accuracy on test set: 84.59%\n",
      "Model saved as 'best_model.pth' with accuracy: 84.590%\n",
      "----------------------------------------------------------------\n",
      "Epoch 28: Train loss = 0.3746, Test loss = 0.4536\n",
      "Accuracy on test set: 85.22%\n",
      "Model saved as 'best_model.pth' with accuracy: 85.220%\n",
      "----------------------------------------------------------------\n",
      "Epoch 29: Train loss = 0.3768, Test loss = 0.5131\n",
      "Accuracy on test set: 83.60%\n",
      "----------------------------------------------------------------\n",
      "Epoch 30: Train loss = 0.3639, Test loss = 0.4852\n",
      "Accuracy on test set: 83.89%\n",
      "----------------------------------------------------------------\n",
      "Epoch 31: Train loss = 0.3667, Test loss = 0.4488\n",
      "Accuracy on test set: 85.17%\n",
      "----------------------------------------------------------------\n",
      "Epoch 32: Train loss = 0.3617, Test loss = 0.4870\n",
      "Accuracy on test set: 84.33%\n",
      "----------------------------------------------------------------\n",
      "Epoch 33: Train loss = 0.3543, Test loss = 0.4918\n",
      "Accuracy on test set: 83.91%\n",
      "----------------------------------------------------------------\n",
      "Epoch 34: Train loss = 0.3545, Test loss = 0.4391\n",
      "Accuracy on test set: 85.20%\n",
      "----------------------------------------------------------------\n",
      "Epoch 35: Train loss = 0.3530, Test loss = 0.5048\n",
      "Accuracy on test set: 83.95%\n",
      "----------------------------------------------------------------\n",
      "Epoch 36: Train loss = 0.3455, Test loss = 0.4771\n",
      "Accuracy on test set: 84.73%\n",
      "----------------------------------------------------------------\n",
      "Epoch 37: Train loss = 0.3390, Test loss = 0.5541\n",
      "Accuracy on test set: 81.85%\n",
      "----------------------------------------------------------------\n",
      "Epoch 38: Train loss = 0.3347, Test loss = 0.4694\n",
      "Accuracy on test set: 84.75%\n",
      "----------------------------------------------------------------\n",
      "Epoch 39: Train loss = 0.3351, Test loss = 0.4452\n",
      "Accuracy on test set: 85.40%\n",
      "Model saved as 'best_model.pth' with accuracy: 85.400%\n",
      "----------------------------------------------------------------\n",
      "Epoch 40: Train loss = 0.3347, Test loss = 0.4843\n",
      "Accuracy on test set: 84.84%\n",
      "----------------------------------------------------------------\n",
      "Epoch 41: Train loss = 0.3299, Test loss = 0.4414\n",
      "Accuracy on test set: 85.82%\n",
      "Model saved as 'best_model.pth' with accuracy: 85.820%\n",
      "----------------------------------------------------------------\n",
      "Epoch 42: Train loss = 0.3305, Test loss = 0.4626\n",
      "Accuracy on test set: 85.02%\n",
      "----------------------------------------------------------------\n",
      "Epoch 43: Train loss = 0.3219, Test loss = 0.4241\n",
      "Accuracy on test set: 86.17%\n",
      "Model saved as 'best_model.pth' with accuracy: 86.170%\n",
      "----------------------------------------------------------------\n",
      "Epoch 44: Train loss = 0.3263, Test loss = 0.4428\n",
      "Accuracy on test set: 85.92%\n",
      "----------------------------------------------------------------\n",
      "Epoch 45: Train loss = 0.3213, Test loss = 0.4808\n",
      "Accuracy on test set: 85.38%\n",
      "----------------------------------------------------------------\n",
      "Epoch 46: Train loss = 0.3202, Test loss = 0.4670\n",
      "Accuracy on test set: 85.15%\n",
      "----------------------------------------------------------------\n",
      "Epoch 47: Train loss = 0.3133, Test loss = 0.5171\n",
      "Accuracy on test set: 84.37%\n",
      "----------------------------------------------------------------\n",
      "Epoch 48: Train loss = 0.3119, Test loss = 0.4392\n",
      "Accuracy on test set: 85.36%\n",
      "----------------------------------------------------------------\n",
      "Epoch 49: Train loss = 0.3061, Test loss = 0.4680\n",
      "Accuracy on test set: 84.64%\n",
      "----------------------------------------------------------------\n"
     ]
    }
   ],
   "source": [
    "device = torch.device(\"cuda\" if torch.cuda.is_available() else \"cpu\")\n",
    "print(device)\n",
    "\n",
    "# Train\n",
    "model = AlexNet().to(device)\n",
    "criterion = nn.CrossEntropyLoss()\n",
    "# optimizer = optim.SGD(model.parameters(), lr=0.001, momentum=0.9, weight_decay=5e-4)\n",
    "optimizer = optim.Adam(model.parameters(), lr=0.001, weight_decay=5e-4)\n",
    "train_losses = train(model, trainloader, testloader, criterion, optimizer, epochs=50, device=device)"
   ]
  },
  {
   "cell_type": "code",
   "execution_count": 7,
   "metadata": {
    "execution": {
     "iopub.execute_input": "2025-03-12T06:50:32.027080Z",
     "iopub.status.busy": "2025-03-12T06:50:32.026770Z",
     "iopub.status.idle": "2025-03-12T06:50:33.850893Z",
     "shell.execute_reply": "2025-03-12T06:50:33.849654Z",
     "shell.execute_reply.started": "2025-03-12T06:50:32.027055Z"
    },
    "trusted": true
   },
   "outputs": [
    {
     "name": "stdout",
     "output_type": "stream",
     "text": [
      "Accuracy on test set: 86.17%\n"
     ]
    }
   ],
   "source": [
    "# Load model\n",
    "model.load_state_dict(torch.load(\"models/best_model.pth\", weights_only=True))\n",
    "model.to(device)\n",
    "model.eval()\n",
    "accuracy, test_loss = evaluate(model, testloader, criterion, device)\n",
    "print(f'Accuracy on test set: {accuracy:.2f}%')"
   ]
  },
  {
   "cell_type": "markdown",
   "metadata": {},
   "source": [
    "# Plot loss history"
   ]
  },
  {
   "cell_type": "code",
   "execution_count": 8,
   "metadata": {
    "colab": {
     "base_uri": "https://localhost:8080/",
     "height": 487
    },
    "execution": {
     "iopub.execute_input": "2025-03-12T06:50:37.460053Z",
     "iopub.status.busy": "2025-03-12T06:50:37.459747Z",
     "iopub.status.idle": "2025-03-12T06:50:37.956957Z",
     "shell.execute_reply": "2025-03-12T06:50:37.956047Z",
     "shell.execute_reply.started": "2025-03-12T06:50:37.460030Z"
    },
    "id": "zQJWMXRbDmZm",
    "outputId": "5a16c687-9102-4cc1-bda3-a76f98d6b0f1",
    "trusted": true
   },
   "outputs": [
    {
     "data": {
      "image/png": "[encoded data removed]",
      "text/plain": [
       "<Figure size 1000x500 with 1 Axes>"
      ]
     },
     "metadata": {},
     "output_type": "display_data"
    }
   ],
   "source": [
    "# Plot training loss\n",
    "plt.figure(figsize=(10, 5))\n",
    "plt.plot(train_losses)\n",
    "plt.title('Training Loss Over Time')\n",
    "plt.xlabel('Iterations (x100)')\n",
    "plt.ylabel('Loss')\n",
    "plt.show()"
   ]
  }
 ],
 "metadata": {
  "accelerator": "GPU",
  "colab": {
   "gpuType": "T4",
   "provenance": []
  },
  "kaggle": {
   "accelerator": "nvidiaTeslaT4",
   "dataSources": [],
   "dockerImageVersionId": 30919,
   "isGpuEnabled": true,
   "isInternetEnabled": true,
   "language": "python",
   "sourceType": "notebook"
  },
  "kernelspec": {
   "display_name": "Python 3",
   "language": "python",
   "name": "python3"
  },
  "language_info": {
   "codemirror_mode": {
    "name": "ipython",
    "version": 3
   },
   "file_extension": ".py",
   "mimetype": "text/x-python",
   "name": "python",
   "nbconvert_exporter": "python",
   "pygments_lexer": "ipython3",
   "version": "3.10.12"
  }
 },
 "nbformat": 4,
 "nbformat_minor": 4
}
